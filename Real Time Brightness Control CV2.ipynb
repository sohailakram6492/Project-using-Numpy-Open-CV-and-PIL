{
 "cells": [
  {
   "cell_type": "markdown",
   "metadata": {},
   "source": [
    "# Control Brightness of Image"
   ]
  },
  {
   "cell_type": "code",
   "execution_count": 1,
   "metadata": {},
   "outputs": [],
   "source": [
    "import numpy as np\n",
    "import cv2"
   ]
  },
  {
   "cell_type": "code",
   "execution_count": 2,
   "metadata": {},
   "outputs": [],
   "source": [
    "bird=cv2.imread('bird.jpg')\n",
    "\n",
    "cv2.imshow('birds_img', bird)\n",
    "cv2.waitKey(0)\n",
    "cv2.destroyAllWindows()"
   ]
  },
  {
   "cell_type": "code",
   "execution_count": 4,
   "metadata": {},
   "outputs": [],
   "source": [
    "cv2.namedWindow('Brightness Control')\n",
    "bright = cv2.createTrackbar('Brightness','Brightness Control',75,255,lambda x:x)\n",
    "value = np.ones_like(bird,dtype='uint8')\n",
    "\n",
    "while True:\n",
    "    bright = cv2.getTrackbarPos('Brightness', 'Brightness Control')\n",
    "    bar = bright - 127\n",
    "\n",
    "    if bar>=0:\n",
    "        value =np.ones_like(bird,dtype='uint8')*bar\n",
    "        img_ctrl= cv2.add(bird,value)\n",
    "    else:\n",
    "        bright = 127- bright\n",
    "        value =np.ones_like(bird, dtype='uint8')*bright\n",
    "        img_ctrl= cv2.subtract(bird,value)\n",
    "    \n",
    "    cv2.imshow('Brightness Control',img_ctrl)\n",
    "    if cv2.waitKey(1) == ord('q'):\n",
    "        break\n",
    "\n",
    "cv2.destroyAllWindows()"
   ]
  },
  {
   "cell_type": "markdown",
   "metadata": {},
   "source": [
    "# Real Time Brightness Control"
   ]
  },
  {
   "cell_type": "code",
   "execution_count": 5,
   "metadata": {},
   "outputs": [],
   "source": [
    "def brightness_ctrl(image,bright):\n",
    "    bar = bright - 127\n",
    "    \n",
    "    if bar >=0:\n",
    "        value = np.ones_like(image,dtype='uint8')*bar\n",
    "        img_ctrl = cv2.add(image,value)\n",
    "        \n",
    "    else:\n",
    "        bright = 127 - bright\n",
    "        value = np.ones_like(image,dtype='uint8')*bright\n",
    "        img_ctrl = cv2.subtract(image,value)\n",
    "        \n",
    "    return img_ctrl"
   ]
  },
  {
   "cell_type": "code",
   "execution_count": 6,
   "metadata": {},
   "outputs": [
    {
     "ename": "error",
     "evalue": "OpenCV(4.5.4-dev) D:\\a\\opencv-python\\opencv-python\\opencv\\modules\\highgui\\src\\window_w32.cpp:2581: error: (-27:Null pointer) NULL window: 'Brightness Control' in function 'cvGetTrackbarPos'\n",
     "output_type": "error",
     "traceback": [
      "\u001b[1;31m---------------------------------------------------------------------------\u001b[0m",
      "\u001b[1;31merror\u001b[0m                                     Traceback (most recent call last)",
      "\u001b[1;32m~\\AppData\\Local\\Temp/ipykernel_14064/3711933861.py\u001b[0m in \u001b[0;36m<module>\u001b[1;34m\u001b[0m\n\u001b[0;32m      9\u001b[0m         \u001b[1;32mbreak\u001b[0m\u001b[1;33m\u001b[0m\u001b[0m\n\u001b[0;32m     10\u001b[0m \u001b[1;33m\u001b[0m\u001b[0m\n\u001b[1;32m---> 11\u001b[1;33m     \u001b[0mbright\u001b[0m \u001b[1;33m=\u001b[0m \u001b[0mcv2\u001b[0m\u001b[1;33m.\u001b[0m\u001b[0mgetTrackbarPos\u001b[0m\u001b[1;33m(\u001b[0m\u001b[1;34m'Brightness'\u001b[0m\u001b[1;33m,\u001b[0m\u001b[1;34m'Brightness Control'\u001b[0m\u001b[1;33m)\u001b[0m\u001b[1;33m\u001b[0m\u001b[0m\n\u001b[0m\u001b[0;32m     12\u001b[0m     \u001b[0mimg_ctrl\u001b[0m \u001b[1;33m=\u001b[0m \u001b[0mbrightness_ctrl\u001b[0m\u001b[1;33m(\u001b[0m\u001b[0mframe\u001b[0m\u001b[1;33m,\u001b[0m\u001b[0mbright\u001b[0m\u001b[1;33m)\u001b[0m\u001b[1;33m\u001b[0m\u001b[0m\n\u001b[0;32m     13\u001b[0m \u001b[1;33m\u001b[0m\u001b[0m\n",
      "\u001b[1;31merror\u001b[0m: OpenCV(4.5.4-dev) D:\\a\\opencv-python\\opencv-python\\opencv\\modules\\highgui\\src\\window_w32.cpp:2581: error: (-27:Null pointer) NULL window: 'Brightness Control' in function 'cvGetTrackbarPos'\n"
     ]
    }
   ],
   "source": [
    "cap = cv2.VideoCapture('clip.mp4')\n",
    "cv2.namedWindow('Brightness Control')\n",
    "bright = cv2.createTrackbar('Brightness','Brightness Control',75,255,lambda x:x)\n",
    "value = np.ones_like(bird,dtype='uint8')\n",
    "\n",
    "while True:\n",
    "    ret, frame = cap.read()\n",
    "    if ret == False:\n",
    "        break\n",
    "        \n",
    "    bright = cv2.getTrackbarPos('Brightness','Brightness Control')\n",
    "    img_ctrl = brightness_ctrl(frame,bright)\n",
    "    \n",
    "    cv2.imshow('Brightness Control',img_ctrl)\n",
    "    if cv2.waitKey(25) == 27:\n",
    "        break\n",
    "        \n",
    "cv2.destroyAllWindows()\n",
    "cap.release()"
   ]
  }
 ],
 "metadata": {
  "kernelspec": {
   "display_name": "Python 3",
   "language": "python",
   "name": "python3"
  },
  "language_info": {
   "codemirror_mode": {
    "name": "ipython",
    "version": 3
   },
   "file_extension": ".py",
   "mimetype": "text/x-python",
   "name": "python",
   "nbconvert_exporter": "python",
   "pygments_lexer": "ipython3",
   "version": "3.7.0"
  }
 },
 "nbformat": 4,
 "nbformat_minor": 4
}
